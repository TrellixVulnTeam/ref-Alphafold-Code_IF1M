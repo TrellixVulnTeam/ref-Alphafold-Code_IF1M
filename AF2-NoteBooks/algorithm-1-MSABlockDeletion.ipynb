{
 "cells": [
  {
   "cell_type": "code",
   "execution_count": null,
   "source": [],
   "outputs": [],
   "metadata": {}
  }
 ],
 "metadata": {
  "orig_nbformat": 4,
  "language_info": {
   "name": "python",
   "version": "3.7.10"
  },
  "kernelspec": {
   "name": "python3",
   "display_name": "Python 3.7.10 64-bit ('AmberTools21': conda)"
  },
  "interpreter": {
   "hash": "cb28c5fb882f20b9884f2725f24b7e0cffba2e287382f2e004750ec89902cd19"
  }
 },
 "nbformat": 4,
 "nbformat_minor": 2
}